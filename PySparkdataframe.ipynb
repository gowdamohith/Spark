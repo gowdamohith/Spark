{
  "nbformat": 4,
  "nbformat_minor": 0,
  "metadata": {
    "colab": {
      "provenance": []
    },
    "kernelspec": {
      "name": "python3",
      "display_name": "Python 3"
    },
    "language_info": {
      "name": "python"
    }
  },
  "cells": [
    {
      "cell_type": "code",
      "execution_count": 1,
      "metadata": {
        "colab": {
          "base_uri": "https://localhost:8080/"
        },
        "id": "mmTfILeIw5nd",
        "outputId": "019d19b7-bc5f-442f-fbb3-eb3021f9cf30"
      },
      "outputs": [
        {
          "output_type": "stream",
          "name": "stdout",
          "text": [
            "Requirement already satisfied: pyspark in /usr/local/lib/python3.11/dist-packages (3.5.5)\n",
            "Requirement already satisfied: py4j==0.10.9.7 in /usr/local/lib/python3.11/dist-packages (from pyspark) (0.10.9.7)\n"
          ]
        }
      ],
      "source": [
        "pip install pyspark"
      ]
    },
    {
      "cell_type": "code",
      "source": [
        "from pyspark.sql import SparkSession\n",
        "from pyspark.sql.functions import col, avg"
      ],
      "metadata": {
        "id": "sC4GDPzSJ3KV"
      },
      "execution_count": 2,
      "outputs": []
    },
    {
      "cell_type": "code",
      "source": [
        "spark = SparkSession.builder.appName(\"Student Grades Example\") .getOrCreate()"
      ],
      "metadata": {
        "id": "6mALhCPoKEbg"
      },
      "execution_count": 3,
      "outputs": []
    },
    {
      "cell_type": "code",
      "source": [
        "data = [\n",
        "    (\"Alice\", \"Math\", 85),\n",
        "    (\"Bob\", \"Math\", 90),\n",
        "    (\"Alice\", \"Science\", 95),\n",
        "    (\"Bob\", \"Science\", 88),\n",
        "    (\"Charlie\", \"Math\", 75),\n",
        "    (\"Charlie\", \"Science\", 82)\n",
        "]"
      ],
      "metadata": {
        "id": "vJPuZxjwKOmd"
      },
      "execution_count": 4,
      "outputs": []
    },
    {
      "cell_type": "code",
      "source": [
        "columns = [\"student_name\", \"subject\", \"grade\"]"
      ],
      "metadata": {
        "id": "T16lyxsiKVh-"
      },
      "execution_count": 5,
      "outputs": []
    },
    {
      "cell_type": "code",
      "source": [
        "df = spark.createDataFrame(data, columns)"
      ],
      "metadata": {
        "id": "ayCukPRGKZi2"
      },
      "execution_count": 6,
      "outputs": []
    },
    {
      "cell_type": "code",
      "source": [
        "print(\"Initial DataFrame:\")\n",
        "df.show()"
      ],
      "metadata": {
        "colab": {
          "base_uri": "https://localhost:8080/"
        },
        "id": "httmRbxcKtVX",
        "outputId": "2cdf74f5-cd3a-4440-e6b2-73d9f1649241"
      },
      "execution_count": 7,
      "outputs": [
        {
          "output_type": "stream",
          "name": "stdout",
          "text": [
            "Initial DataFrame:\n",
            "+------------+-------+-----+\n",
            "|student_name|subject|grade|\n",
            "+------------+-------+-----+\n",
            "|       Alice|   Math|   85|\n",
            "|         Bob|   Math|   90|\n",
            "|       Alice|Science|   95|\n",
            "|         Bob|Science|   88|\n",
            "|     Charlie|   Math|   75|\n",
            "|     Charlie|Science|   82|\n",
            "+------------+-------+-----+\n",
            "\n"
          ]
        }
      ]
    },
    {
      "cell_type": "code",
      "source": [
        "print(\"Students with grades > 85:\")\n",
        "df_filtered = df.filter(col(\"grade\") > 85)\n",
        "df_filtered.show()"
      ],
      "metadata": {
        "colab": {
          "base_uri": "https://localhost:8080/"
        },
        "id": "uETdBuM6K8t5",
        "outputId": "5e24a441-707e-4777-c101-023a61ef5ed3"
      },
      "execution_count": 8,
      "outputs": [
        {
          "output_type": "stream",
          "name": "stdout",
          "text": [
            "Students with grades > 85:\n",
            "+------------+-------+-----+\n",
            "|student_name|subject|grade|\n",
            "+------------+-------+-----+\n",
            "|         Bob|   Math|   90|\n",
            "|       Alice|Science|   95|\n",
            "|         Bob|Science|   88|\n",
            "+------------+-------+-----+\n",
            "\n"
          ]
        }
      ]
    },
    {
      "cell_type": "code",
      "source": [
        "print(\"Average grade per student:\")\n",
        "df_avg = df.groupBy(\"student_name\").agg(avg(\"grade\").alias(\"avg_grade\"))\n",
        "df_avg.show()"
      ],
      "metadata": {
        "colab": {
          "base_uri": "https://localhost:8080/"
        },
        "id": "e1OupYCHK-j-",
        "outputId": "17016b2a-f444-4617-8c7b-2452e5bc9ef9"
      },
      "execution_count": 9,
      "outputs": [
        {
          "output_type": "stream",
          "name": "stdout",
          "text": [
            "Average grade per student:\n",
            "+------------+---------+\n",
            "|student_name|avg_grade|\n",
            "+------------+---------+\n",
            "|         Bob|     89.0|\n",
            "|       Alice|     90.0|\n",
            "|     Charlie|     78.5|\n",
            "+------------+---------+\n",
            "\n"
          ]
        }
      ]
    },
    {
      "cell_type": "code",
      "source": [],
      "metadata": {
        "id": "gkQDeqwjLGB7"
      },
      "execution_count": null,
      "outputs": []
    }
  ]
}