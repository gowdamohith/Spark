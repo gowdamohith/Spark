{
  "nbformat": 4,
  "nbformat_minor": 0,
  "metadata": {
    "colab": {
      "provenance": []
    },
    "kernelspec": {
      "name": "python3",
      "display_name": "Python 3"
    },
    "language_info": {
      "name": "python"
    }
  },
  "cells": [
    {
      "cell_type": "code",
      "execution_count": 1,
      "metadata": {
        "id": "u7b4jYwhRRch"
      },
      "outputs": [],
      "source": [
        "from pyspark.sql import SparkSession"
      ]
    },
    {
      "cell_type": "code",
      "source": [
        "spark = SparkSession.builder.appName(\"Catalyst and Tungsten Example\").config(\"spark.sql.adaptive.enabled\", \"false\").getOrCreate()"
      ],
      "metadata": {
        "id": "2J01-qhARZkD"
      },
      "execution_count": 2,
      "outputs": []
    },
    {
      "cell_type": "code",
      "source": [
        "print(\"SparkSession created!\")"
      ],
      "metadata": {
        "colab": {
          "base_uri": "https://localhost:8080/"
        },
        "id": "NDIVubTdR40Q",
        "outputId": "d92df46c-a90c-474d-c05a-e6082d16e9b0"
      },
      "execution_count": 3,
      "outputs": [
        {
          "output_type": "stream",
          "name": "stdout",
          "text": [
            "SparkSession created!\n"
          ]
        }
      ]
    },
    {
      "cell_type": "code",
      "source": [
        "data = [\n",
        "    (1, \"Laptop\", 1000, \"2025-03-01\"),\n",
        "    (2, \"Phone\", 500, \"2025-03-02\"),\n",
        "    (3, \"Laptop\", 1200, \"2025-03-03\"),\n",
        "    (4, \"Tablet\", 300, \"2025-03-04\"),\n",
        "    (5, \"Phone\", 800, \"2025-03-05\")\n",
        "]\n",
        "columns = [\"id\", \"product\", \"price\", \"date\"]"
      ],
      "metadata": {
        "id": "BfMcc4oCSBYa"
      },
      "execution_count": 4,
      "outputs": []
    },
    {
      "cell_type": "code",
      "source": [
        "df = spark.createDataFrame(data, columns)\n",
        "df.show()"
      ],
      "metadata": {
        "colab": {
          "base_uri": "https://localhost:8080/"
        },
        "id": "958eDgtcSF6y",
        "outputId": "92eccef9-4465-4889-d1f8-4fe7dc727747"
      },
      "execution_count": 5,
      "outputs": [
        {
          "output_type": "stream",
          "name": "stdout",
          "text": [
            "+---+-------+-----+----------+\n",
            "| id|product|price|      date|\n",
            "+---+-------+-----+----------+\n",
            "|  1| Laptop| 1000|2025-03-01|\n",
            "|  2|  Phone|  500|2025-03-02|\n",
            "|  3| Laptop| 1200|2025-03-03|\n",
            "|  4| Tablet|  300|2025-03-04|\n",
            "|  5|  Phone|  800|2025-03-05|\n",
            "+---+-------+-----+----------+\n",
            "\n"
          ]
        }
      ]
    },
    {
      "cell_type": "code",
      "source": [
        "df.createOrReplaceTempView(\"sales\")"
      ],
      "metadata": {
        "id": "PgNj-3HqSRD7"
      },
      "execution_count": 6,
      "outputs": []
    },
    {
      "cell_type": "code",
      "source": [
        "result = spark.sql(\"\"\"\n",
        "    SELECT product, SUM(price) AS total_sales\n",
        "    FROM sales\n",
        "    WHERE price >= 500\n",
        "    GROUP BY product\n",
        "\"\"\")"
      ],
      "metadata": {
        "id": "Zg-eAGheSXfh"
      },
      "execution_count": 7,
      "outputs": []
    },
    {
      "cell_type": "code",
      "source": [
        "result.show()"
      ],
      "metadata": {
        "colab": {
          "base_uri": "https://localhost:8080/"
        },
        "id": "RKwC8tSjSb0l",
        "outputId": "453ac66e-34c6-4005-ad5b-ed9bff503a90"
      },
      "execution_count": 8,
      "outputs": [
        {
          "output_type": "stream",
          "name": "stdout",
          "text": [
            "+-------+-----------+\n",
            "|product|total_sales|\n",
            "+-------+-----------+\n",
            "|  Phone|       1300|\n",
            "| Laptop|       2200|\n",
            "+-------+-----------+\n",
            "\n"
          ]
        }
      ]
    },
    {
      "cell_type": "code",
      "source": [
        "result.explain(True)"
      ],
      "metadata": {
        "colab": {
          "base_uri": "https://localhost:8080/"
        },
        "id": "8ZuCySgsTIEE",
        "outputId": "d7b91938-ae2f-486a-e63e-1d965035fdff"
      },
      "execution_count": 9,
      "outputs": [
        {
          "output_type": "stream",
          "name": "stdout",
          "text": [
            "== Parsed Logical Plan ==\n",
            "'Aggregate ['product], ['product, 'SUM('price) AS total_sales#25]\n",
            "+- 'Filter ('price >= 500)\n",
            "   +- 'UnresolvedRelation [sales], [], false\n",
            "\n",
            "== Analyzed Logical Plan ==\n",
            "product: string, total_sales: bigint\n",
            "Aggregate [product#1], [product#1, sum(price#2L) AS total_sales#25L]\n",
            "+- Filter (price#2L >= cast(500 as bigint))\n",
            "   +- SubqueryAlias sales\n",
            "      +- View (`sales`, [id#0L,product#1,price#2L,date#3])\n",
            "         +- LogicalRDD [id#0L, product#1, price#2L, date#3], false\n",
            "\n",
            "== Optimized Logical Plan ==\n",
            "Aggregate [product#1], [product#1, sum(price#2L) AS total_sales#25L]\n",
            "+- Project [product#1, price#2L]\n",
            "   +- Filter (isnotnull(price#2L) AND (price#2L >= 500))\n",
            "      +- LogicalRDD [id#0L, product#1, price#2L, date#3], false\n",
            "\n",
            "== Physical Plan ==\n",
            "*(2) HashAggregate(keys=[product#1], functions=[sum(price#2L)], output=[product#1, total_sales#25L])\n",
            "+- Exchange hashpartitioning(product#1, 200), ENSURE_REQUIREMENTS, [plan_id=76]\n",
            "   +- *(1) HashAggregate(keys=[product#1], functions=[partial_sum(price#2L)], output=[product#1, sum#36L])\n",
            "      +- *(1) Project [product#1, price#2L]\n",
            "         +- *(1) Filter (isnotnull(price#2L) AND (price#2L >= 500))\n",
            "            +- *(1) Scan ExistingRDD[id#0L,product#1,price#2L,date#3]\n",
            "\n"
          ]
        }
      ]
    }
  ]
}